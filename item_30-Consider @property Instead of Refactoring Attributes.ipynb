{
 "cells": [
  {
   "cell_type": "code",
   "execution_count": 1,
   "metadata": {
    "collapsed": false
   },
   "outputs": [],
   "source": [
    "from datetime import timedelta, datetime\n",
    "\n",
    "# a plain python object\n",
    "class Bucket(object):\n",
    "    def __init__(self, period):\n",
    "        self.period_delta = timedelta(seconds=period)\n",
    "        self.reset_time = datetime.now()\n",
    "        self.quota = 0\n",
    "        \n",
    "    def __repr__(self):\n",
    "        return 'Bucket(quota=%d)' % self.quota\n",
    "    \n",
    "def fill(bucket, amount):\n",
    "        now = datetime.now()\n",
    "        if now - bucket.reset_time > bucket.period_delta:\n",
    "            bucket.quota = 0\n",
    "            bucket.reset_time = now\n",
    "        bucket.quota += amount\n",
    "    \n",
    "def deduct(bucket, amount):\n",
    "    now = datetime.now()\n",
    "    if now - bucket.reset_time > bucket.period_delta:\n",
    "        return False\n",
    "    if bucket.quota - amount < 0:\n",
    "        return False\n",
    "    bucket.quota -= amount\n",
    "    return True"
   ]
  },
  {
   "cell_type": "code",
   "execution_count": 2,
   "metadata": {
    "collapsed": false
   },
   "outputs": [
    {
     "name": "stdout",
     "output_type": "stream",
     "text": [
      "Bucket(quota=100)\n"
     ]
    }
   ],
   "source": [
    "bucket = Bucket(60)\n",
    "fill(bucket, 100)\n",
    "print(bucket)"
   ]
  },
  {
   "cell_type": "code",
   "execution_count": 3,
   "metadata": {
    "collapsed": false
   },
   "outputs": [
    {
     "name": "stdout",
     "output_type": "stream",
     "text": [
      "Had 99 quoata\n",
      "Bucket(quota=1)\n"
     ]
    }
   ],
   "source": [
    "if deduct(bucket, 99):\n",
    "    print('Had 99 quoata')\n",
    "else:\n",
    "    print('Not enough for 99 quota')\n",
    "print(bucket)"
   ]
  },
  {
   "cell_type": "code",
   "execution_count": 4,
   "metadata": {
    "collapsed": false
   },
   "outputs": [
    {
     "name": "stdout",
     "output_type": "stream",
     "text": [
      "Not enough for 3 quoata\n",
      "Bucket(quota=1)\n"
     ]
    }
   ],
   "source": [
    "# deduct will always return False, so make it block when the Bucket ran out of quota\n",
    "if deduct(bucket, 3):\n",
    "    print('Had 3 quoata')\n",
    "else:\n",
    "    print('Not enough for 3 quoata')\n",
    "print(bucket)"
   ]
  },
  {
   "cell_type": "code",
   "execution_count": 5,
   "metadata": {
    "collapsed": false
   },
   "outputs": [],
   "source": [
    "# keep track of the max_quota\n",
    "class Bucket(object):\n",
    "    def __init__(self, period):\n",
    "        self.period_delta = timedelta(seconds=period)\n",
    "        self.reset_time = datetime.now()\n",
    "        self.max_quota = 0\n",
    "        self.quota_consumed = 0\n",
    "        \n",
    "    def __repr__(self):\n",
    "        return ('Bucket(max_quota=%d, quota_consumed=%d)' % (self.max_quota, self.quota_consumed))\n",
    "    \n",
    "    @property\n",
    "    def quota(self):\n",
    "        return self.max_quota - self.quota_consumed\n",
    "    \n",
    "    @quota.setter\n",
    "    def quota(self, amount):\n",
    "        delta = self.max_quota - amount\n",
    "        if amount == 0:\n",
    "            self.quota_consumed = 0\n",
    "            self.max_quota = 0\n",
    "        elif delta < 0:\n",
    "            assert self.quota_consumed == 0\n",
    "            self.max_quota = amount\n",
    "        else:\n",
    "            assert self.max_quota >= self.quota_consumed\n",
    "            self.quota_consumed += delta"
   ]
  },
  {
   "cell_type": "code",
   "execution_count": 6,
   "metadata": {
    "collapsed": false
   },
   "outputs": [
    {
     "name": "stdout",
     "output_type": "stream",
     "text": [
      "Initial Bucket(max_quota=0, quota_consumed=0)\n",
      "Filled Bucket(max_quota=100, quota_consumed=0)\n",
      "Had 99 quota\n",
      "Now Bucket(max_quota=100, quota_consumed=99)\n",
      "Not enough for 3 quota\n",
      "Still Bucket(max_quota=100, quota_consumed=99)\n"
     ]
    }
   ],
   "source": [
    "# Bucket.quota doesn't have to change or know that the class has changed\n",
    "bucket = Bucket(60)\n",
    "print('Initial', bucket)\n",
    "fill(bucket, 100)\n",
    "print('Filled', bucket)\n",
    "\n",
    "if deduct(bucket, 99):\n",
    "    print('Had 99 quota')\n",
    "else:\n",
    "    print('Not enough for 99 quota')\n",
    "    \n",
    "print('Now', bucket)\n",
    "\n",
    "if deduct(bucket, 3):\n",
    "    print('Had 3 quota')\n",
    "else:\n",
    "    print('Not enough for 3 quota')\n",
    "\n",
    "print('Still', bucket)"
   ]
  }
 ],
 "metadata": {
  "kernelspec": {
   "display_name": "Python 3",
   "language": "python",
   "name": "python3"
  },
  "language_info": {
   "codemirror_mode": {
    "name": "ipython",
    "version": 3
   },
   "file_extension": ".py",
   "mimetype": "text/x-python",
   "name": "python",
   "nbconvert_exporter": "python",
   "pygments_lexer": "ipython3",
   "version": "3.5.2"
  }
 },
 "nbformat": 4,
 "nbformat_minor": 0
}
