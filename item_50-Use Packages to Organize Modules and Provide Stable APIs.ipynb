{
 "cells": [
  {
   "cell_type": "code",
   "execution_count": null,
   "metadata": {
    "collapsed": true
   },
   "outputs": [],
   "source": [
    "# the abolute module name\n",
    "# main.py\n",
    "# mypackage/__init__.py\n",
    "# mypackage/utils.py\n"
   ]
  },
  {
   "cell_type": "code",
   "execution_count": 1,
   "metadata": {
    "collapsed": true
   },
   "outputs": [],
   "source": [
    "# hide a package's internal implementation by only importing public names in the package's __init__.py or\n",
    "# by naming internal-only members with a leading underscore\n",
    "\n",
    "# a single team or on a single codebase, using __all__ for explicit APIs is unnecessary.\n",
    "\n",
    "# _dot_product will not be available to the API since it was not present in __all__.\n",
    "from mypackage import *\n",
    "a = Projectile(1.5, 3)\n",
    "b = Projectile(4, 1.7)\n",
    "after_a, after_b = simulate_collision(a, b)"
   ]
  }
 ],
 "metadata": {
  "kernelspec": {
   "display_name": "Python 3",
   "language": "python",
   "name": "python3"
  },
  "language_info": {
   "codemirror_mode": {
    "name": "ipython",
    "version": 3
   },
   "file_extension": ".py",
   "mimetype": "text/x-python",
   "name": "python",
   "nbconvert_exporter": "python",
   "pygments_lexer": "ipython3",
   "version": "3.5.2"
  }
 },
 "nbformat": 4,
 "nbformat_minor": 0
}
