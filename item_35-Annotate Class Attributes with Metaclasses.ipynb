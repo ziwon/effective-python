{
 "cells": [
  {
   "cell_type": "code",
   "execution_count": 1,
   "metadata": {
    "collapsed": true
   },
   "outputs": [],
   "source": [
    "# a class that represnets a row in your customer database\n",
    "class Field(object):\n",
    "    def __init__(self, name):\n",
    "        self.name = name\n",
    "        self.internal_name = '_' + self.name\n",
    "        \n",
    "    def __get__(self, instance, instance_type):\n",
    "        if instance is None: return self\n",
    "        return getattr(instance, self.internal_name, \"\")\n",
    "    \n",
    "    def __set__(self, instance, value):\n",
    "        setattr(instance, self.internal_name, value)"
   ]
  },
  {
   "cell_type": "code",
   "execution_count": 2,
   "metadata": {
    "collapsed": false
   },
   "outputs": [
    {
     "name": "stdout",
     "output_type": "stream",
     "text": [
      "Before: '' {}\n",
      "After:  'Euclid' {'_first_name': 'Euclid'}\n"
     ]
    }
   ],
   "source": [
    "# define the class representing a row requires supplying the column name for each class attribute\n",
    "class Customer(object):\n",
    "    first_name = Field('first_name')\n",
    "    last_name = Field('last_name')\n",
    "    prefix = Field('prefix')\n",
    "    suffix = Field('suffix')\n",
    "    \n",
    "foo = Customer()\n",
    "print('Before:', repr(foo.first_name), foo.__dict__)\n",
    "foo.first_name = 'Euclid'\n",
    "print('After: ', repr(foo.first_name), foo.__dict__)"
   ]
  },
  {
   "cell_type": "code",
   "execution_count": 3,
   "metadata": {
    "collapsed": true
   },
   "outputs": [],
   "source": [
    "# to eliminate the redundancy, use a metaclass\n",
    "class Meta(type):\n",
    "    def __new__(meta, name, bases, class_dict):\n",
    "        for key, value in class_dict.items():\n",
    "            if isinstance(value, Field):\n",
    "                value.name = key\n",
    "                value.internal_name = '_' + key\n",
    "        cls = type.__new__(meta, name, bases, class_dict)\n",
    "        return cls"
   ]
  },
  {
   "cell_type": "code",
   "execution_count": 4,
   "metadata": {
    "collapsed": true
   },
   "outputs": [],
   "source": [
    "# a base class that uses the metaclass\n",
    "class DatabaseRow(object, metaclass=Meta):\n",
    "    pass"
   ]
  },
  {
   "cell_type": "code",
   "execution_count": 5,
   "metadata": {
    "collapsed": true
   },
   "outputs": [],
   "source": [
    "class Field(object):\n",
    "    def __init__(self):\n",
    "        self.name = None\n",
    "        self.internal_name = None\n",
    "        \n",
    "    def __get__(self, instance, instance_type):\n",
    "        if instance is None: return self\n",
    "        return getattr(instance, self.internal_name, \"\")\n",
    "    \n",
    "    def __set__(self, instance, value):\n",
    "        setattr(instance, self.internal_name, value)"
   ]
  },
  {
   "cell_type": "code",
   "execution_count": 6,
   "metadata": {
    "collapsed": true
   },
   "outputs": [],
   "source": [
    "class BetterCustomer(DatabaseRow):\n",
    "    first_name = Field()\n",
    "    last_name = Field()\n",
    "    prefix = Field()\n",
    "    suffix = Field()"
   ]
  },
  {
   "cell_type": "code",
   "execution_count": 7,
   "metadata": {
    "collapsed": false
   },
   "outputs": [
    {
     "name": "stdout",
     "output_type": "stream",
     "text": [
      "Before: '' {}\n",
      "After:  'Euler' {'_first_name': 'Euler'}\n"
     ]
    }
   ],
   "source": [
    "foo = BetterCustomer()\n",
    "print('Before:', repr(foo.first_name), foo.__dict__)\n",
    "foo.first_name = 'Euler'\n",
    "print('After: ', repr(foo.first_name), foo.__dict__)"
   ]
  }
 ],
 "metadata": {
  "kernelspec": {
   "display_name": "Python 3",
   "language": "python",
   "name": "python3"
  },
  "language_info": {
   "codemirror_mode": {
    "name": "ipython",
    "version": 3
   },
   "file_extension": ".py",
   "mimetype": "text/x-python",
   "name": "python",
   "nbconvert_exporter": "python",
   "pygments_lexer": "ipython3",
   "version": "3.5.2"
  }
 },
 "nbformat": 4,
 "nbformat_minor": 0
}
