{
 "cells": [
  {
   "cell_type": "markdown",
   "metadata": {},
   "source": [
    "### Whitespace\n",
    " - Use spaces instead of tabs for indentation\n",
    " - User four spaces for each level of syntatically significant indenting\n",
    " - Lines should be 79 characters in length or less\n",
    " - Continuations of long expresssions onto additional lines should be indented by four extra spaces from their normal indentation level\n",
    " - In a file, functions and classes should be seperated by two blank lines.\n",
    " - In a class, methods should be seperated by one blank line.\n",
    " - Don't put spaces around list indexes, function calls, or keyword argument assignments\n",
    " - Put one - and only one - space before and after variable assignments\n",
    "\n",
    "### Naming\n",
    " - Functions, variables and attributes should be in `lowercase_underscore` format.\n",
    " - Protected instance attributes should be in `_leading_underscore` format.\n",
    " - Private instance attributes should be in `__double_leading_undersocre` format.\n",
    " - Classes and exceptions should be in `CapitailzeWord` format\n",
    " - Module-level constants should be in `ALL_CAPS` format.\n",
    " - Instance methods in classes should use `self` as the name of the first parameter\n",
    " - Class methods should use `cls` as the name of the first parameter\n",
    "\n",
    "### Expressions and Statements\n",
    " - Use inline negation\n",
    " - Don't check for empty values by checking the length. Use `if not somelist`.\n",
    " - The statement `if somelist` is implicitly `True` for non-empty values.\n",
    " - Avoid single-line `if` statements, `for` and `while` loops, and `except` compound statements.\n",
    " - Always put `import` statements at the top of a file\n",
    " - Always use absolute names for modules when importing them."
   ]
  }
 ],
 "metadata": {
  "kernelspec": {
   "display_name": "Python 3",
   "language": "python",
   "name": "python3"
  },
  "language_info": {
   "codemirror_mode": {
    "name": "ipython",
    "version": 3
   },
   "file_extension": ".py",
   "mimetype": "text/x-python",
   "name": "python",
   "nbconvert_exporter": "python",
   "pygments_lexer": "ipython3",
   "version": "3.5.1+"
  }
 },
 "nbformat": 4,
 "nbformat_minor": 0
}
