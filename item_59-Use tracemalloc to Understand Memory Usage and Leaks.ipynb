{
 "cells": [
  {
   "cell_type": "code",
   "execution_count": 1,
   "metadata": {
    "collapsed": true
   },
   "outputs": [],
   "source": [
    "import os\n",
    "import hashlib\n",
    "\n",
    "class MyObject(object):\n",
    "    def __init__(self):\n",
    "        self.x = os.urandom(100)\n",
    "        self.y = hashlib.sha1(self.x).hexdigest()\n",
    "\n",
    "def get_data():\n",
    "    values = []\n",
    "    for _ in range(100):\n",
    "        obj = MyObject()\n",
    "        values.append(obj)\n",
    "    return values\n",
    "\n",
    "def run():\n",
    "    deep_values = []\n",
    "    for _ in range(100):\n",
    "        deep_values.append(get_data())\n",
    "    return deep_values"
   ]
  },
  {
   "cell_type": "code",
   "execution_count": 2,
   "metadata": {
    "collapsed": false
   },
   "outputs": [
    {
     "name": "stdout",
     "output_type": "stream",
     "text": [
      "46828 objects before\n",
      "56970 objects after\n",
      "<__main__.MyObject object at 0x7f8790366748>\n",
      "<__main__.MyObject object at 0x7f8790366780>\n",
      "<__main__.MyObject object at 0x7f87903667b8>\n"
     ]
    }
   ],
   "source": [
    "import gc\n",
    "\n",
    "found_objects = gc.get_objects()\n",
    "print('%d objects before' % len(found_objects))\n",
    "\n",
    "x = run()\n",
    "\n",
    "found_objects = gc.get_objects()\n",
    "print('%d objects after' % len(found_objects))\n",
    "\n",
    "for obj in found_objects[:3]:\n",
    "    print(repr(obj)[:100])"
   ]
  },
  {
   "cell_type": "code",
   "execution_count": 3,
   "metadata": {
    "collapsed": false
   },
   "outputs": [
    {
     "name": "stdout",
     "output_type": "stream",
     "text": [
      "<ipython-input-1-966c18a3920a>:6: size=2236 KiB (+2236 KiB), count=29990 (+29990), average=76 B\n",
      "<ipython-input-1-966c18a3920a>:7: size=869 KiB (+869 KiB), count=10000 (+10000), average=89 B\n",
      "<ipython-input-1-966c18a3920a>:12: size=547 KiB (+547 KiB), count=10000 (+10000), average=56 B\n"
     ]
    }
   ],
   "source": [
    "import tracemalloc\n",
    "\n",
    "tracemalloc.start(10)  # Save up to 10 stack frames\n",
    "\n",
    "time1 = tracemalloc.take_snapshot()\n",
    "\n",
    "x = run()\n",
    "time2 = tracemalloc.take_snapshot()\n",
    "\n",
    "stats = time2.compare_to(time1, 'lineno')\n",
    "for stat in stats[:3]:\n",
    "    print(stat)"
   ]
  },
  {
   "cell_type": "code",
   "execution_count": 4,
   "metadata": {
    "collapsed": false
   },
   "outputs": [
    {
     "name": "stdout",
     "output_type": "stream",
     "text": [
      "29993 memory blocks: 2235.9 KiB\n",
      "  File \"<ipython-input-1-966c18a3920a>\", line 6\n",
      "    self.x = os.urandom(100)\n",
      "  File \"<ipython-input-1-966c18a3920a>\", line 12\n",
      "    obj = MyObject()\n",
      "  File \"<ipython-input-1-966c18a3920a>\", line 19\n",
      "    deep_values.append(get_data())\n",
      "  File \"<ipython-input-4-0e86868d4265>\", line 4\n",
      "    x = run()\n",
      "  File \"/usr/local/lib/python3.5/dist-packages/IPython/core/interactiveshell.py\", line 2869\n",
      "    exec(code_obj, self.user_global_ns, self.user_ns)\n",
      "  File \"/usr/local/lib/python3.5/dist-packages/IPython/core/interactiveshell.py\", line 2809\n",
      "    if self.run_code(code, result):\n",
      "  File \"/usr/local/lib/python3.5/dist-packages/IPython/core/interactiveshell.py\", line 2705\n",
      "    interactivity=interactivity, compiler=compiler, result=result)\n",
      "  File \"/usr/local/lib/python3.5/dist-packages/ipykernel/ipkernel.py\", line 199\n",
      "    shell.run_cell(code, store_history=store_history, silent=silent)\n",
      "  File \"/usr/local/lib/python3.5/dist-packages/ipykernel/kernelbase.py\", line 391\n",
      "    user_expressions, allow_stdin)\n",
      "  File \"/usr/local/lib/python3.5/dist-packages/ipykernel/kernelbase.py\", line 228\n",
      "    handler(stream, idents, msg)\n"
     ]
    }
   ],
   "source": [
    "tracemalloc.start(10)\n",
    "\n",
    "time1 = tracemalloc.take_snapshot()\n",
    "x = run()\n",
    "\n",
    "time2 = tracemalloc.take_snapshot()\n",
    "\n",
    "stats = time2.compare_to(time1, 'traceback')\n",
    "stat = stats[0]\n",
    "\n",
    "print(\"%s memory blocks: %.1f KiB\" % (stat.count, stat.size / 1024))\n",
    "print('\\n'.join(stat.traceback.format()))"
   ]
  }
 ],
 "metadata": {
  "kernelspec": {
   "display_name": "Python 3",
   "language": "python",
   "name": "python3"
  },
  "language_info": {
   "codemirror_mode": {
    "name": "ipython",
    "version": 3
   },
   "file_extension": ".py",
   "mimetype": "text/x-python",
   "name": "python",
   "nbconvert_exporter": "python",
   "pygments_lexer": "ipython3",
   "version": "3.5.2"
  }
 },
 "nbformat": 4,
 "nbformat_minor": 0
}
