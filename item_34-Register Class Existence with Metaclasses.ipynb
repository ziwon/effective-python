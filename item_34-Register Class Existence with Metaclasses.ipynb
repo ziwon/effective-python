{
 "cells": [
  {
   "cell_type": "code",
   "execution_count": 1,
   "metadata": {
    "collapsed": true
   },
   "outputs": [],
   "source": [
    "# register types with metaclasses\n",
    "\n",
    "# base class for JSON string\n",
    "import json\n",
    "class Serializable(object):\n",
    "    def __init__(self, *args):\n",
    "        self.args = args\n",
    "\n",
    "    def serialize(self):\n",
    "        return json.dumps({'args': self.args})"
   ]
  },
  {
   "cell_type": "code",
   "execution_count": null,
   "metadata": {
    "collapsed": false
   },
   "outputs": [],
   "source": [
    "# Serializing Point2D object to JSON string\n",
    "\n",
    "class Point2D(Serializable):\n",
    "    def __init__(self, x, y):\n",
    "        super().__init__(x, y)\n",
    "        self.x = x\n",
    "        self.y = y\n",
    "\n",
    "    def __repr__(self):\n",
    "        return 'Point2D(%d, %d)' % (self.x, self.y)\n",
    "    \n",
    "point = Point2D(5, 3)\n",
    "print('Object:    ', point)\n",
    "print('Serialized:', point.serialize())"
   ]
  },
  {
   "cell_type": "code",
   "execution_count": null,
   "metadata": {
    "collapsed": true
   },
   "outputs": [],
   "source": [
    "# Deserializing it\n",
    "\n",
    "class Deserializable(Serializable):\n",
    "    @classmethod\n",
    "    def deserialize(cls, json_data):\n",
    "        params = json.loads(json_data)\n",
    "        return cls(*params['args'])"
   ]
  },
  {
   "cell_type": "code",
   "execution_count": null,
   "metadata": {
    "collapsed": false
   },
   "outputs": [],
   "source": [
    "# You should know the intended type: Point2D, BetterPoint2D\n",
    "class BetterPoint2D(Deserializable):\n",
    "    def __init__(self, x, y):\n",
    "        super().__init__(x, y)\n",
    "        self.x = x\n",
    "        self.y = y\n",
    "        \n",
    "    def __repr__(self):\n",
    "        return 'BetterPoint2D(%d, %d)' % (self.x, self.y)\n",
    "\n",
    "point = BetterPoint2D(5, 3)\n",
    "print('Before:     ', point)\n",
    "data = point.serialize()\n",
    "print('Serialized: ', data)\n",
    "after = BetterPoint2D(5, 3)\n",
    "print('After:      ', after)"
   ]
  },
  {
   "cell_type": "code",
   "execution_count": null,
   "metadata": {
    "collapsed": true
   },
   "outputs": [],
   "source": [
    "# better serialization\n",
    "class BetterSerializable(object):\n",
    "    def __init__(self, *args):\n",
    "        self.args = args\n",
    "\n",
    "    def serialize(self):\n",
    "        return json.dumps({\n",
    "            'class': self.__class__.__name__,\n",
    "            'args': self.args\n",
    "        })\n",
    "\n",
    "    def __repr__(self):\n",
    "        return '%s(%s)' % (\n",
    "            self.__class__.__name__,\n",
    "            ', '.join('%r' % a for a in self.args))"
   ]
  },
  {
   "cell_type": "code",
   "execution_count": null,
   "metadata": {
    "collapsed": true
   },
   "outputs": [],
   "source": [
    "# a maintating object for a mapping of class names to the objects\n",
    "registry = {}\n",
    "\n",
    "def register_class(target_class):\n",
    "    registry[target_class.__name__] = target_class\n",
    "\n",
    "def deserialize(data):\n",
    "    params = json.loads(data)\n",
    "    name = params['class']\n",
    "    target_class = registry[name]\n",
    "    return target_class(*params['args'])"
   ]
  },
  {
   "cell_type": "code",
   "execution_count": null,
   "metadata": {
    "collapsed": true
   },
   "outputs": [],
   "source": [
    "class EvenBetterPoint2D(BetterSerializable):\n",
    "    def __init__(self, x, y):\n",
    "        super().__init__(x, y)\n",
    "        self.x = x\n",
    "        self.y = y"
   ]
  },
  {
   "cell_type": "code",
   "execution_count": null,
   "metadata": {
    "collapsed": false
   },
   "outputs": [],
   "source": [
    "register_class(EvenBetterPoint2D)\n",
    "\n",
    "point = EvenBetterPoint2D(5, 3)\n",
    "print('Before:    ', point)\n",
    "data = point.serialize()\n",
    "print('Serialized:', data)\n",
    "after = deserialize(data)\n",
    "print('After:     ', after)"
   ]
  },
  {
   "cell_type": "code",
   "execution_count": null,
   "metadata": {
    "collapsed": false
   },
   "outputs": [],
   "source": [
    "# forgot to call register_class\n",
    "class Point3D(BetterSerializable):\n",
    "    def __init__(self, x, y, z):\n",
    "        super().__init__(x, y, z)\n",
    "        self.x = x\n",
    "        self.y = y\n",
    "        self.z = z\n",
    "\n",
    "point = Point3D(5, 9, -4)\n",
    "data = point.serialize()\n",
    "deserialize(data)"
   ]
  },
  {
   "cell_type": "code",
   "execution_count": null,
   "metadata": {
    "collapsed": true
   },
   "outputs": [],
   "source": [
    "class Meta(type):\n",
    "    def __new__(meta, name, bases, class_dict):\n",
    "        cls = type.__new__(meta, name, bases, class_dict)\n",
    "        register_class(cls)\n",
    "        return cls\n",
    "\n",
    "\n",
    "class RegisteredSerializable(BetterSerializable, metaclass=Meta):\n",
    "    pass"
   ]
  },
  {
   "cell_type": "code",
   "execution_count": null,
   "metadata": {
    "collapsed": false
   },
   "outputs": [],
   "source": [
    "class Vector3D(RegisteredSerializable):\n",
    "    def __init__(self, x, y, z):\n",
    "        super().__init__(x, y, z)\n",
    "        self.x, self.y, self.z = x, y, z\n",
    "\n",
    "\n",
    "v3 = Vector3D(10, -7, 3)\n",
    "print('Before:    ', v3)\n",
    "data = v3.serialize()\n",
    "print('Serialized:', data)\n",
    "print('After:     ', deserialize(data))"
   ]
  }
 ],
 "metadata": {
  "kernelspec": {
   "display_name": "Python 3",
   "language": "python",
   "name": "python3"
  },
  "language_info": {
   "codemirror_mode": {
    "name": "ipython",
    "version": 3
   },
   "file_extension": ".py",
   "mimetype": "text/x-python",
   "name": "python",
   "nbconvert_exporter": "python",
   "pygments_lexer": "ipython3",
   "version": "3.5.2"
  }
 },
 "nbformat": 4,
 "nbformat_minor": 0
}
