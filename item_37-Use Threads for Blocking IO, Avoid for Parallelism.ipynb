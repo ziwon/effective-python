{
 "cells": [
  {
   "cell_type": "code",
   "execution_count": 1,
   "metadata": {
    "collapsed": false
   },
   "outputs": [],
   "source": [
    "# Know GIL's nagative side effect\n",
    "from time import sleep\n",
    "from time import time\n",
    "\n",
    "# let's compute long time task with Python\n",
    "def factorize(number):\n",
    "    for i in range(1, number + 1):\n",
    "        if number % i == 0:\n",
    "            yield i"
   ]
  },
  {
   "cell_type": "code",
   "execution_count": 2,
   "metadata": {
    "collapsed": false
   },
   "outputs": [
    {
     "name": "stdout",
     "output_type": "stream",
     "text": [
      "Took 0.812 seconds\n"
     ]
    }
   ],
   "source": [
    "numbers = [2139079, 1214759, 1516637, 1852285]\n",
    "start = time()\n",
    "for number in numbers:\n",
    "    list(factorize(number))\n",
    "    \n",
    "end = time()\n",
    "print('Took %.3f seconds' % (end - start))"
   ]
  },
  {
   "cell_type": "code",
   "execution_count": 3,
   "metadata": {
    "collapsed": true
   },
   "outputs": [],
   "source": [
    "# multiple threading with Python\n",
    "from threading import Thread\n",
    "\n",
    "class FactorizeThread(Thread):\n",
    "    def __init__(self, number):\n",
    "        super().__init__()\n",
    "        self.number = number\n",
    "        \n",
    "    def run(self):\n",
    "        self.factors = list(factorize(self.number))"
   ]
  },
  {
   "cell_type": "code",
   "execution_count": 4,
   "metadata": {
    "collapsed": false
   },
   "outputs": [
    {
     "name": "stdout",
     "output_type": "stream",
     "text": [
      "Took 1.285 seconds\n"
     ]
    }
   ],
   "source": [
    "# What a suprise that it takes even longer!\n",
    "start = time()\n",
    "threads = []\n",
    "for number in numbers:\n",
    "    thread = FactorizeThread(number)\n",
    "    thread.start()\n",
    "    threads.append(thread)\n",
    "\n",
    "for thread in threads:\n",
    "    thread.join()\n",
    "\n",
    "end = time()\n",
    "print('Took %.3f seconds' % (end - start))"
   ]
  },
  {
   "cell_type": "code",
   "execution_count": 5,
   "metadata": {
    "collapsed": true
   },
   "outputs": [],
   "source": [
    "# Python Threads\n",
    "# - Only one of them makes forward progress at a time due to the GIL\n",
    "# - handle Blocking I/O, which happens in Python's system calls."
   ]
  },
  {
   "cell_type": "code",
   "execution_count": 6,
   "metadata": {
    "collapsed": true
   },
   "outputs": [],
   "source": [
    "# use a slow system call (select) for sending a signal\n",
    "# Main thread of execution is blocked on the select system call\n",
    "import select\n",
    "\n",
    "def slow_systemcall():\n",
    "    select.select([], [], [], 0.1)\n",
    "    \n",
    "def compute_helicopter_location(index):\n",
    "    print('helicopter\\'s location.. %s' % index)\n",
    "    sleep(0.01)"
   ]
  },
  {
   "cell_type": "code",
   "execution_count": 7,
   "metadata": {
    "collapsed": false
   },
   "outputs": [
    {
     "name": "stdout",
     "output_type": "stream",
     "text": [
      "Took 0.501 seconds\n"
     ]
    }
   ],
   "source": [
    "# this can be crashed\n",
    "start = time()\n",
    "for _ in range(5):\n",
    "    slow_systemcall()\n",
    "\n",
    "end = time()\n",
    "print('Took %.3f seconds' % (end - start))"
   ]
  },
  {
   "cell_type": "code",
   "execution_count": 8,
   "metadata": {
    "collapsed": false
   },
   "outputs": [
    {
     "name": "stdout",
     "output_type": "stream",
     "text": [
      "helicopter's location.. 0\n",
      "helicopter's location.. 1\n",
      "helicopter's location.. 2\n",
      "helicopter's location.. 3\n",
      "helicopter's location.. 4\n",
      "Took 0.102 seconds\n"
     ]
    }
   ],
   "source": [
    "# with the threads, you can do some work to calculate next job\n",
    "start = time()\n",
    "threads = []\n",
    "for _ in range(5):\n",
    "    thread = Thread(target=slow_systemcall)\n",
    "    thread.start()\n",
    "    threads.append(thread)\n",
    "\n",
    "for i in range(5):\n",
    "    compute_helicopter_location(i)\n",
    "\n",
    "for thread in threads:\n",
    "    thread.join()\n",
    "end = time()\n",
    "print('Took %.3f seconds' % (end - start))"
   ]
  }
 ],
 "metadata": {
  "kernelspec": {
   "display_name": "Python 3",
   "language": "python",
   "name": "python3"
  },
  "language_info": {
   "codemirror_mode": {
    "name": "ipython",
    "version": 3
   },
   "file_extension": ".py",
   "mimetype": "text/x-python",
   "name": "python",
   "nbconvert_exporter": "python",
   "pygments_lexer": "ipython3",
   "version": "3.5.2"
  }
 },
 "nbformat": 4,
 "nbformat_minor": 0
}
