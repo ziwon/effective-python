{
 "cells": [
  {
   "cell_type": "code",
   "execution_count": 1,
   "metadata": {
    "collapsed": true
   },
   "outputs": [],
   "source": [
    "# define a decorator\n",
    "def trace(func):\n",
    "    def wrapper(*args, **kwargs):\n",
    "        result = func(*args, **kwargs)\n",
    "        print('%s(%r, %r) -> %r' % (func.__name__, args, kwargs, result))\n",
    "        return result\n",
    "    return wrapper"
   ]
  },
  {
   "cell_type": "code",
   "execution_count": 2,
   "metadata": {
    "collapsed": false
   },
   "outputs": [
    {
     "name": "stdout",
     "output_type": "stream",
     "text": [
      "fibonacci((1,), {}) -> 1\n",
      "wrapper((1,), {}) -> 1\n",
      "fibonacci((0,), {}) -> 0\n",
      "wrapper((0,), {}) -> 0\n",
      "fibonacci((1,), {}) -> 1\n",
      "wrapper((1,), {}) -> 1\n",
      "fibonacci((2,), {}) -> 1\n",
      "wrapper((2,), {}) -> 1\n",
      "fibonacci((3,), {}) -> 2\n",
      "wrapper((3,), {}) -> 2\n"
     ]
    },
    {
     "data": {
      "text/plain": [
       "2"
      ]
     },
     "execution_count": 2,
     "metadata": {},
     "output_type": "execute_result"
    }
   ],
   "source": [
    "# using a decorator\n",
    "@trace\n",
    "def fibonacci(n):\n",
    "    \"\"\"Return the n-th Fibonacci number\"\"\"\n",
    "    if n in (0, 1):\n",
    "        return n\n",
    "    return (fibonacci(n - 2) + fibonacci(n - 1))\n",
    "\n",
    "fibonacci = trace(fibonacci)\n",
    "fibonacci(3)"
   ]
  },
  {
   "cell_type": "code",
   "execution_count": 3,
   "metadata": {
    "collapsed": false
   },
   "outputs": [
    {
     "name": "stdout",
     "output_type": "stream",
     "text": [
      "<function trace.<locals>.wrapper at 0x7f5d003f86a8>\n"
     ]
    }
   ],
   "source": [
    "# the value returned by the decorator is not fibonacchi \n",
    "print(fibonacci)"
   ]
  },
  {
   "cell_type": "code",
   "execution_count": 4,
   "metadata": {
    "collapsed": false
   },
   "outputs": [
    {
     "name": "stdout",
     "output_type": "stream",
     "text": [
      "Help on function wrapper in module __main__:\n",
      "\n",
      "wrapper(*args, **kwargs)\n",
      "\n"
     ]
    }
   ],
   "source": [
    "# using help is not helpful\n",
    "help(fibonacci)"
   ]
  },
  {
   "cell_type": "code",
   "execution_count": 5,
   "metadata": {
    "collapsed": false
   },
   "outputs": [],
   "source": [
    "# the solution is to use the wraps helper function\n",
    "# applying it to the wrapper function will copy all of the metadata about the inner function to other function\n",
    "from functools import wraps\n",
    "def trace(func):\n",
    "    @wraps(func)\n",
    "    def wrapper(*args, **kwargs):\n",
    "        result = func(*args, **kwargs)\n",
    "        print('%s(%r, %r) -> %r' % (func.__name__, args, kwargs, result))\n",
    "        return result\n",
    "    return wrapper\n",
    "\n",
    "@trace\n",
    "def fibonacci(n):\n",
    "    \"\"\"Return the n-th Fibonacci number\"\"\"\n",
    "    if n in (0, 1):\n",
    "        return n\n",
    "    return (fibonacci(n - 2) + fibonacci(n - 1))"
   ]
  },
  {
   "cell_type": "code",
   "execution_count": 6,
   "metadata": {
    "collapsed": false
   },
   "outputs": [
    {
     "name": "stdout",
     "output_type": "stream",
     "text": [
      "fibonacci((1,), {}) -> 1\n",
      "fibonacci((1,), {}) -> 1\n",
      "fibonacci((0,), {}) -> 0\n",
      "fibonacci((0,), {}) -> 0\n",
      "fibonacci((1,), {}) -> 1\n",
      "fibonacci((1,), {}) -> 1\n",
      "fibonacci((2,), {}) -> 1\n",
      "fibonacci((2,), {}) -> 1\n",
      "fibonacci((3,), {}) -> 2\n",
      "fibonacci((3,), {}) -> 2\n"
     ]
    },
    {
     "data": {
      "text/plain": [
       "2"
      ]
     },
     "execution_count": 6,
     "metadata": {},
     "output_type": "execute_result"
    }
   ],
   "source": [
    "fibonacci = trace(fibonacci)\n",
    "fibonacci(3)"
   ]
  },
  {
   "cell_type": "code",
   "execution_count": 7,
   "metadata": {
    "collapsed": false
   },
   "outputs": [
    {
     "name": "stdout",
     "output_type": "stream",
     "text": [
      "Help on function fibonacci in module __main__:\n",
      "\n",
      "fibonacci(n)\n",
      "    Return the n-th Fibonacci number\n",
      "\n"
     ]
    }
   ],
   "source": [
    "help(fibonacci)"
   ]
  }
 ],
 "metadata": {
  "kernelspec": {
   "display_name": "Python 3",
   "language": "python",
   "name": "python3"
  },
  "language_info": {
   "codemirror_mode": {
    "name": "ipython",
    "version": 3
   },
   "file_extension": ".py",
   "mimetype": "text/x-python",
   "name": "python",
   "nbconvert_exporter": "python",
   "pygments_lexer": "ipython3",
   "version": "3.5.2"
  }
 },
 "nbformat": 4,
 "nbformat_minor": 0
}
