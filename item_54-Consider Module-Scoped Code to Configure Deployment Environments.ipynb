{
 "cells": [
  {
   "cell_type": "code",
   "execution_count": null,
   "metadata": {
    "collapsed": false
   },
   "outputs": [],
   "source": [
    "import __main__\n",
    "\n",
    "class TestingDatabase(object):\n",
    "    pass\n",
    "\n",
    "class RealDatabase(object):\n",
    "    pass\n",
    "\n",
    "if __main__.TESTING:\n",
    "    Database = TestingDatabase\n",
    "else:\n",
    "    Database = RealDatabase"
   ]
  },
  {
   "cell_type": "code",
   "execution_count": 1,
   "metadata": {
    "collapsed": true
   },
   "outputs": [],
   "source": [
    "import sys\n",
    "\n",
    "class Win32Database(object):\n",
    "    pass\n",
    "\n",
    "class PosixDatabase(object):\n",
    "    pass\n",
    "\n",
    "if sys.platform.startswith('win32'):\n",
    "    Database = Win32Database\n",
    "else:\n",
    "    Database = PosixDatabase"
   ]
  }
 ],
 "metadata": {
  "kernelspec": {
   "display_name": "Python 3",
   "language": "python",
   "name": "python3"
  },
  "language_info": {
   "codemirror_mode": {
    "name": "ipython",
    "version": 3
   },
   "file_extension": ".py",
   "mimetype": "text/x-python",
   "name": "python",
   "nbconvert_exporter": "python",
   "pygments_lexer": "ipython3",
   "version": "3.5.2"
  }
 },
 "nbformat": 4,
 "nbformat_minor": 0
}
